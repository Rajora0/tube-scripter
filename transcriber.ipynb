{
 "cells": [
  {
   "cell_type": "code",
   "execution_count": 2,
   "metadata": {},
   "outputs": [],
   "source": [
    "import moviepy.editor as mp\n",
    "from transformers import pipeline\n",
    "import torch\n",
    "import os"
   ]
  },
  {
   "cell_type": "code",
   "execution_count": 3,
   "metadata": {},
   "outputs": [],
   "source": [
    "# Inicializa o pipeline do Hugging Face (Whisper)\n",
    "pipe = pipeline(\n",
    "    \"automatic-speech-recognition\",\n",
    "    model=\"openai/whisper-small\",  # Ou outro modelo Whisper\n",
    "    device=0 if torch.cuda.is_available() else -1,  # Use GPU se disponível\n",
    ")\n"
   ]
  },
  {
   "cell_type": "code",
   "execution_count": 4,
   "metadata": {},
   "outputs": [],
   "source": [
    "\n",
    "def transcrever_video_em_partes(video_path, segment_duration=30):\n",
    "    \"\"\"\n",
    "    Transcreve um vídeo em partes usando o modelo Whisper.\n",
    "\n",
    "    Args:\n",
    "        video_path: Caminho para o arquivo de vídeo.\n",
    "        segment_duration: Duração de cada segmento em segundos.\n",
    "\n",
    "    Returns:\n",
    "        Uma string contendo a transcrição completa do vídeo.\n",
    "    \"\"\"\n",
    "\n",
    "    try:\n",
    "        video = mp.VideoFileClip(video_path)\n",
    "        duration = video.duration\n",
    "        transcricao_completa = \"\"\n",
    "\n",
    "        for i in range(0, int(duration), segment_duration):\n",
    "            inicio = i\n",
    "            fim = min(i + segment_duration, duration)\n",
    "            segmento = video.subclip(inicio, fim)\n",
    "\n",
    "            arquivo_temporario = f\"segmento_temporario_{i}.wav\"  # Nome do arquivo temporário\n",
    "            segmento.audio.write_audiofile(arquivo_temporario, codec='pcm_s16le', fps=16000)  # Salva o áudio do segmento\n",
    "\n",
    "            try:\n",
    "                transcricao_segmento = pipe(arquivo_temporario)[\"text\"]\n",
    "                transcricao_completa += transcricao_segmento + \"\\n\"  # Adiciona a transcrição do segmento ao resultado final\n",
    "                print(f\"Transcrição do segmento {i}-{fim}s: {transcricao_segmento}\")  # Imprime a transcrição do segmento\n",
    "            except Exception as e:\n",
    "                print(f\"Erro ao transcrever o segmento {i}-{fim}s: {e}\")\n",
    "            finally:\n",
    "                os.remove(arquivo_temporario)  # Remove o arquivo temporário\n",
    "\n",
    "        video.close()\n",
    "        return transcricao_completa\n",
    "\n",
    "    except Exception as e:\n",
    "        print(f\"Erro ao processar o vídeo: {e}\")\n",
    "        return \"\""
   ]
  },
  {
   "cell_type": "code",
   "execution_count": 5,
   "metadata": {},
   "outputs": [
    {
     "name": "stdout",
     "output_type": "stream",
     "text": [
      "MoviePy - Writing audio in segmento_temporario_0.wav\n"
     ]
    },
    {
     "name": "stderr",
     "output_type": "stream",
     "text": [
      "                                                        "
     ]
    },
    {
     "name": "stdout",
     "output_type": "stream",
     "text": [
      "MoviePy - Done.\n"
     ]
    },
    {
     "name": "stderr",
     "output_type": "stream",
     "text": [
      "Due to a bug fix in https://github.com/huggingface/transformers/pull/28687 transcription using a multilingual Whisper will default to language detection followed by transcription instead of translation to English.This might be a breaking change for your use case. If you want to instead always translate your audio to English, make sure to pass `language='en'`.\n",
      "Passing a tuple of `past_key_values` is deprecated and will be removed in Transformers v4.43.0. You should pass an instance of `EncoderDecoderCache` instead, e.g. `past_key_values=EncoderDecoderCache.from_legacy_cache(past_key_values)`.\n",
      "The attention mask is not set and cannot be inferred from input because pad token is same as eos token. As a consequence, you may observe unexpected behavior. Please pass your input's `attention_mask` to obtain reliable results.\n"
     ]
    },
    {
     "name": "stdout",
     "output_type": "stream",
     "text": [
      "Transcrição do segmento 0-20s:  Eu sei que eu deveria começar um vídeo sobre trabalhos que vão ser ou não substituídos pela inteligência artificial com avanços recentes dos programas ou quem sabe com relatórios de firmas de investimento grandes estimando quantos postos de trabalho serão perdidos. Como se robôs fossem mandar um currículo no seu lugar e pegar o seu emprego. Mas não.\n",
      "MoviePy - Writing audio in segmento_temporario_20.wav\n"
     ]
    },
    {
     "name": "stderr",
     "output_type": "stream",
     "text": [
      "                                                        "
     ]
    },
    {
     "name": "stdout",
     "output_type": "stream",
     "text": [
      "MoviePy - Done.\n"
     ]
    },
    {
     "name": "stderr",
     "output_type": "stream",
     "text": [
      "\r"
     ]
    },
    {
     "name": "stdout",
     "output_type": "stream",
     "text": [
      "Transcrição do segmento 20-40s:  A influência, pelo menos dos modelos de linguagem e da moda, vai fazer mais sentido se a gente começar falando de feijoada, ou quase uma feijoada. E eu juro que não há história pra enrolar não. É hora de falar sobre algo ruim, mas bom o suficiente. Ah, mas antes de entrar em que tipo de trabalho que as ferramentas atuais realmente substituem, uma ferramenta insubstituíva\n",
      "MoviePy - Writing audio in segmento_temporario_40.wav\n"
     ]
    },
    {
     "name": "stderr",
     "output_type": "stream",
     "text": [
      "                                                        "
     ]
    },
    {
     "name": "stdout",
     "output_type": "stream",
     "text": [
      "MoviePy - Done.\n"
     ]
    },
    {
     "name": "stderr",
     "output_type": "stream",
     "text": [
      "\r"
     ]
    },
    {
     "name": "stdout",
     "output_type": "stream",
     "text": [
      "Transcrição do segmento 40-60s:  para a sua privacidade é o nosso apoiador. Se você quer navegar com proteção dos seus dados auditada, com segurança e sem registro da sua atividade, esse vídeo aqui tem o apoio da Surfshark, que é a VPN que eu uso quando eu estou, por exemplo, usando Wi-Fi em viagens, que é quando eu quero manter minha navegação e os meus dados privados com aplicativos tanto para iOS quanto para Android que me deixam proteger.\n",
      "MoviePy - Writing audio in segmento_temporario_60.wav\n"
     ]
    },
    {
     "name": "stderr",
     "output_type": "stream",
     "text": [
      "                                                        "
     ]
    },
    {
     "name": "stdout",
     "output_type": "stream",
     "text": [
      "MoviePy - Done.\n"
     ]
    },
    {
     "name": "stderr",
     "output_type": "stream",
     "text": [
      "\r"
     ]
    },
    {
     "name": "stdout",
     "output_type": "stream",
     "text": [
      "Transcrição do segmento 60-80s:  você pode proteger a navegação no celular, no tablet, no Chromebook ou onde for, simultaneamente, de maneira bem fácil. E o melhor, você pode compartilhar sua conta com amigos ou familiares e dividir o custo. E com o meu cupom de desconto atila ou escaneando o QR Code aqui da tela, você tem 4 meses grátis de assinatura e 30 dias com\n",
      "MoviePy - Writing audio in segmento_temporario_80.wav\n"
     ]
    },
    {
     "name": "stderr",
     "output_type": "stream",
     "text": [
      "                                                        "
     ]
    },
    {
     "name": "stdout",
     "output_type": "stream",
     "text": [
      "MoviePy - Done.\n"
     ]
    },
    {
     "name": "stderr",
     "output_type": "stream",
     "text": [
      "\r"
     ]
    },
    {
     "name": "stdout",
     "output_type": "stream",
     "text": [
      "Transcrição do segmento 80-100s:  com devolução do seu dinheiro garantida para poder ver como a Surfshark não atrasa a navegação, não mantém histórico nem outros dados seus. E tem mais, assinando a Surfshark One você tem mais do que a VPN, você tem acesso a ferramentas como Alert, que é um serviço que avisa se os seus dados pessoais, como usuário, senha ou e-mail, foram vazados em alguns\n",
      "MoviePy - Writing audio in segmento_temporario_100.wav\n"
     ]
    },
    {
     "name": "stderr",
     "output_type": "stream",
     "text": [
      "                                                        "
     ]
    },
    {
     "name": "stdout",
     "output_type": "stream",
     "text": [
      "MoviePy - Done.\n"
     ]
    },
    {
     "name": "stderr",
     "output_type": "stream",
     "text": [
      "\r"
     ]
    },
    {
     "name": "stdout",
     "output_type": "stream",
     "text": [
      "Transcrição do segmento 100-120s:  serviço que você usa. Assim você sabe que, mesmo se não usar mais aquele serviço em particular, tem que trocar usuário sem a de outros que compartilhem os mesmos dados. Tudo começa com o Congresso, que eu fui visitar na Colorado University, onde eu encontrei em 30 de março de 2017 as 18h23, uma feijoada de vegetais\n",
      "MoviePy - Writing audio in segmento_temporario_120.wav\n"
     ]
    },
    {
     "name": "stderr",
     "output_type": "stream",
     "text": [
      "                                                        "
     ]
    },
    {
     "name": "stdout",
     "output_type": "stream",
     "text": [
      "MoviePy - Done.\n"
     ]
    },
    {
     "name": "stderr",
     "output_type": "stream",
     "text": [
      "\r"
     ]
    },
    {
     "name": "stdout",
     "output_type": "stream",
     "text": [
      "Transcrição do segmento 120-140s:  brasileira, essa que você pode ver na tela. E se você não pode ver a tela, deixa eu descrever o que tem na foto. São vários pedaços de cenoura picados em diferentes tamanhos, um molho vermelho que deve ter sido feito com tomate ou com beterraba ou os dois, pedaços indistinguíveis de algum vegetal marrom, o que parecem ser pedaços de vagem ou pimentão e alguns\n",
      "MoviePy - Writing audio in segmento_temporario_140.wav\n"
     ]
    },
    {
     "name": "stderr",
     "output_type": "stream",
     "text": [
      "                                                        "
     ]
    },
    {
     "name": "stdout",
     "output_type": "stream",
     "text": [
      "MoviePy - Done.\n"
     ]
    },
    {
     "name": "stderr",
     "output_type": "stream",
     "text": [
      "\r"
     ]
    },
    {
     "name": "stdout",
     "output_type": "stream",
     "text": [
      "Transcrição do segmento 140-160s:  de míseros grãos de feijão tristes e espalhados aqui e ali que não parecem nem cozidos direito. Ao ponto que eu, se o nome do prato não fosse feijoada e tivesse esperando pelo menos algum feijão preto, acharia que são uvas passas. Essa feijoada não me assombra porque ela deve ser ruim. Como uma caçarola de vegetais ou algo assim, ela deve até ser\n",
      "MoviePy - Writing audio in segmento_temporario_160.wav\n"
     ]
    },
    {
     "name": "stderr",
     "output_type": "stream",
     "text": [
      "                                                                    "
     ]
    },
    {
     "name": "stdout",
     "output_type": "stream",
     "text": [
      "MoviePy - Done.\n"
     ]
    },
    {
     "name": "stderr",
     "output_type": "stream",
     "text": [
      "\r"
     ]
    },
    {
     "name": "stdout",
     "output_type": "stream",
     "text": [
      "Transcrição do segmento 160-180s:  Ela me assombra porque isso é tudo, menos uma feijoada, já que mal feijão tem. E desculpa quem não come carne, mas que feijoada brasileira que não tem carne de porco, como assim? De novo, desculpa se a sua região tem algo que é chamado de feijoada, mas aqui, do alto da minha ignorância, feijoada de vegetais, pelo menos desse jeito.\n",
      "MoviePy - Writing audio in segmento_temporario_180.wav\n"
     ]
    },
    {
     "name": "stderr",
     "output_type": "stream",
     "text": [
      "                                                        "
     ]
    },
    {
     "name": "stdout",
     "output_type": "stream",
     "text": [
      "MoviePy - Done.\n"
     ]
    },
    {
     "name": "stderr",
     "output_type": "stream",
     "text": [
      "\r"
     ]
    },
    {
     "name": "stdout",
     "output_type": "stream",
     "text": [
      "Transcrição do segmento 180-200s:  faz tanto sentido quanto um medalhão de batata. A minha sensação quando vi isso deve ser a mesma de um japonês vendo a nossa sopa de sushi, tanto que eu tive que tirar essa foto e registrar o momento. Meu ponto com a feijoada é o seguinte, da maioria das pessoas que estavam ali naquele evento, se servindo desse prato, eu devo ser um dos\n",
      "MoviePy - Writing audio in segmento_temporario_200.wav\n"
     ]
    },
    {
     "name": "stderr",
     "output_type": "stream",
     "text": [
      "You seem to be using the pipelines sequentially on GPU. In order to maximize efficiency please use a dataset\n"
     ]
    },
    {
     "name": "stdout",
     "output_type": "stream",
     "text": [
      "MoviePy - Done.\n",
      "Transcrição do segmento 200-220s:  que ficou realmente horrorizado ou indignado dessa forma. Porque pra muita gente lá que nunca viu uma feijoada de verdade, essa experiência pode preencher a categoria mental de feijoada dessas pessoas e aí toda vez que elas pensarem nesse prato ou que ouvirem alguém falando que no Brasil, pelo menos no meu canto do Brasil, quarta-feira é dia de feijoada, aquilo é o que se come.\n",
      "MoviePy - Writing audio in segmento_temporario_220.wav\n"
     ]
    },
    {
     "name": "stderr",
     "output_type": "stream",
     "text": [
      "                                                        "
     ]
    },
    {
     "name": "stdout",
     "output_type": "stream",
     "text": [
      "MoviePy - Done.\n"
     ]
    },
    {
     "name": "stderr",
     "output_type": "stream",
     "text": [
      "\r"
     ]
    },
    {
     "name": "stdout",
     "output_type": "stream",
     "text": [
      "Transcrição do segmento 220-240s:  sem nunca saber que isso não tem nada a ver com a feijoada brasileira ou com quem vive aqui ou a experiência que a gente passa aqui quando comemos uma feijoada. O que é mais triste ainda, porque não só essa pessoa vai estar enganada pelo resto da vida, como ela vai levar uma vida mais pobre e mais sem graça de alguém que nunca comeu um bom feijão preto carregado de pai ou linguiça, costelinha e o que mais você\n",
      "MoviePy - Writing audio in segmento_temporario_240.wav\n"
     ]
    },
    {
     "name": "stderr",
     "output_type": "stream",
     "text": [
      "                                                        "
     ]
    },
    {
     "name": "stdout",
     "output_type": "stream",
     "text": [
      "MoviePy - Done.\n"
     ]
    },
    {
     "name": "stderr",
     "output_type": "stream",
     "text": [
      "\r"
     ]
    },
    {
     "name": "stdout",
     "output_type": "stream",
     "text": [
      "Transcrição do segmento 240-260s:  você quiser colocar na sua feijoada, acompanhada de farofa, torreso, mandioca frita e mais um mundo de posibilidades que me deixam com água na boca enquanto eu escrevia e agora que eu estou falando isso. Para quem nunca com a minha feijoada, essa feijoada ruim pode até ser boa o suficiente. E esse é o cerne da questão quando a gente fala sobre que tipo de trabalho vai ser substituído e quem decide isso.\n",
      "MoviePy - Writing audio in segmento_temporario_260.wav\n"
     ]
    },
    {
     "name": "stderr",
     "output_type": "stream",
     "text": [
      "                                                        "
     ]
    },
    {
     "name": "stdout",
     "output_type": "stream",
     "text": [
      "MoviePy - Done.\n"
     ]
    },
    {
     "name": "stderr",
     "output_type": "stream",
     "text": [
      "\r"
     ]
    },
    {
     "name": "stdout",
     "output_type": "stream",
     "text": [
      "Transcrição do segmento 260-280s:  A gente pode entrar na introdução histórica do tema. A dinâmica da substituição do trabalho não é meio pouco nova e vem junto da automação há bastante tempo já. No livro Blood in the Machine, Brian Merchant traz uma ótima discussão sobre como foi o começo da revolução industrial e o que foi a substituição do trabalho artesanal pela\n",
      "MoviePy - Writing audio in segmento_temporario_280.wav\n"
     ]
    },
    {
     "name": "stderr",
     "output_type": "stream",
     "text": [
      "                                                        "
     ]
    },
    {
     "name": "stdout",
     "output_type": "stream",
     "text": [
      "MoviePy - Done.\n"
     ]
    },
    {
     "name": "stderr",
     "output_type": "stream",
     "text": [
      "\r"
     ]
    },
    {
     "name": "stdout",
     "output_type": "stream",
     "text": [
      "Transcrição do segmento 280-300s:  com uma ótima explicação sobre a origem da palavra ludita, que hoje é usada como xingamento, como uma crítica toda vez que alguém fala mal de uma tecnologia nova. Mas que na verdade tem uma origem que mudou completamente o que eu penso sobre o termo e tem vários paralelos com a nossa situação corrente. Porque antes da Revolução Industrial,\n",
      "MoviePy - Writing audio in segmento_temporario_300.wav\n"
     ]
    },
    {
     "name": "stderr",
     "output_type": "stream",
     "text": [
      "                                                        "
     ]
    },
    {
     "name": "stdout",
     "output_type": "stream",
     "text": [
      "MoviePy - Done.\n"
     ]
    },
    {
     "name": "stderr",
     "output_type": "stream",
     "text": [
      "\r"
     ]
    },
    {
     "name": "stdout",
     "output_type": "stream",
     "text": [
      "Transcrição do segmento 300-320s:  ao mecanizar a produção de tecidos e de roupas, TC era um trabalho bastante artesanal que demandava anos de experiência e que podia ser feito em home office. Na Inglaterra, as pessoas que trabalhavam com tecidos trabalhavam de casa no seu horário tecendo. Não que elas trabalhassem pouco, pelo contrário, só que pelo menos tinha a autonomia de escolher\n",
      "MoviePy - Writing audio in segmento_temporario_320.wav\n"
     ]
    },
    {
     "name": "stderr",
     "output_type": "stream",
     "text": [
      "                                                        "
     ]
    },
    {
     "name": "stdout",
     "output_type": "stream",
     "text": [
      "MoviePy - Done.\n"
     ]
    },
    {
     "name": "stderr",
     "output_type": "stream",
     "text": [
      "\r"
     ]
    },
    {
     "name": "stdout",
     "output_type": "stream",
     "text": [
      "Transcrição do segmento 320-340s:  quando e onde iam fazer o trabalho do dia, além de conseguirem manter um bom padrão de vida com a atividade com o seu trabalho artesanal. Um cenário que acabou a partir de 1780 com a mecanização conforme fábricas desenvolviam máquinas que substituíam a produção artesanal por uma série de motivos.\n",
      "MoviePy - Writing audio in segmento_temporario_340.wav\n"
     ]
    },
    {
     "name": "stderr",
     "output_type": "stream",
     "text": [
      "                                                        "
     ]
    },
    {
     "name": "stdout",
     "output_type": "stream",
     "text": [
      "MoviePy - Done.\n"
     ]
    },
    {
     "name": "stderr",
     "output_type": "stream",
     "text": [
      "\r"
     ]
    },
    {
     "name": "stdout",
     "output_type": "stream",
     "text": [
      "Transcrição do segmento 340-360s:  compra ou quem desenvolve uma máquina precisa recuperar seu investimento. O que quer dizer que quanto mais tempo essa máquina funciona, quanto mais horas do dia ela operar, mais cedo ela se paga e começa a dar lucro. Ao mesmo tempo, quanto mais autônomo é a máquina, menos especializada tem que ser a mão de obra operando. O que quer dizer que ao invés de usar uma mão\n",
      "MoviePy - Writing audio in segmento_temporario_360.wav\n"
     ]
    },
    {
     "name": "stderr",
     "output_type": "stream",
     "text": [
      "                                                        "
     ]
    },
    {
     "name": "stdout",
     "output_type": "stream",
     "text": [
      "MoviePy - Done.\n"
     ]
    },
    {
     "name": "stderr",
     "output_type": "stream",
     "text": [
      "\r"
     ]
    },
    {
     "name": "stdout",
     "output_type": "stream",
     "text": [
      "Transcrição do segmento 360-380s:  de obra especializada e cara de pessoas que trabalharam por anos, pessoas inexperientes podiam ser usadas para fazer o trabalho em pelo menos uma boa parte da escala dela. Tão inexperientes quanto crianças que eram levadas diretamente de orfanatos para operar as máquinas dia e noite e precisavam ser repostas porque frequentemente\n",
      "MoviePy - Writing audio in segmento_temporario_380.wav\n"
     ]
    },
    {
     "name": "stderr",
     "output_type": "stream",
     "text": [
      "                                                        "
     ]
    },
    {
     "name": "stdout",
     "output_type": "stream",
     "text": [
      "MoviePy - Done.\n"
     ]
    },
    {
     "name": "stderr",
     "output_type": "stream",
     "text": [
      "\r"
     ]
    },
    {
     "name": "stdout",
     "output_type": "stream",
     "text": [
      "Transcrição do segmento 380-400s:  se acidentavam com equipamentos brutais. Ao ponto que o Manchante descreve a estratégia de algumas fábricas de espalhar em as vítimas entre vários cemitérios diferentes da região para não levantar em suspeitas da quantidade real de acidentados. E se hoje, artistas se revoltam com ferramentas generativas de inteligência artificial usando\n",
      "MoviePy - Writing audio in segmento_temporario_400.wav\n"
     ]
    },
    {
     "name": "stderr",
     "output_type": "stream",
     "text": [
      "                                                        "
     ]
    },
    {
     "name": "stdout",
     "output_type": "stream",
     "text": [
      "MoviePy - Done.\n"
     ]
    },
    {
     "name": "stderr",
     "output_type": "stream",
     "text": [
      "\r"
     ]
    },
    {
     "name": "stdout",
     "output_type": "stream",
     "text": [
      "Transcrição do segmento 400-420s:  o seu trabalho sem consentimento para reproduzir um estilo artístico e ao mesmo tempo cortar em muitas suas chances de serem contratados para produzir novas artes, já naquela época os artesãos eram estudados para o desenvolvimento de máquinas que repetiam as suas técnicas e acabavam com as suas chances de emprego. O movimento que se organizou\n",
      "MoviePy - Writing audio in segmento_temporario_420.wav\n"
     ]
    },
    {
     "name": "stderr",
     "output_type": "stream",
     "text": [
      "                                                        "
     ]
    },
    {
     "name": "stdout",
     "output_type": "stream",
     "text": [
      "MoviePy - Done.\n"
     ]
    },
    {
     "name": "stderr",
     "output_type": "stream",
     "text": [
      "\r"
     ]
    },
    {
     "name": "stdout",
     "output_type": "stream",
     "text": [
      "Transcrição do segmento 420-440s:  para se opor a isso, os Luditas assumiram o nome de um personagem provavelmente fictício e não protestavam contra todas as máquinas ou qualquer tecnologia nova em geral. Eles inclusive intuíam que a substituição poderia ser de certa forma inevitável. O que não queriam é que essa substituição deixasse os artesãos de lado.\n",
      "MoviePy - Writing audio in segmento_temporario_440.wav\n"
     ]
    },
    {
     "name": "stderr",
     "output_type": "stream",
     "text": [
      "                                                        "
     ]
    },
    {
     "name": "stdout",
     "output_type": "stream",
     "text": [
      "MoviePy - Done.\n"
     ]
    },
    {
     "name": "stderr",
     "output_type": "stream",
     "text": [
      "\r"
     ]
    },
    {
     "name": "stdout",
     "output_type": "stream",
     "text": [
      "Transcrição do segmento 440-460s:  A imagem de um ludita que se faz hoje em dia, como alguém que é contra qualquer tecnologia, fala muito mais sobre o sucesso dos industriais ingleses em acabar com o movimento e executar os responsabilizados do que de fato o que eles reivindicavam. Os luditas originais protestavam especificamente contra máquinas como teares automáticos que eram\n",
      "MoviePy - Writing audio in segmento_temporario_460.wav\n"
     ]
    },
    {
     "name": "stderr",
     "output_type": "stream",
     "text": [
      "                                                        "
     ]
    },
    {
     "name": "stdout",
     "output_type": "stream",
     "text": [
      "MoviePy - Done.\n"
     ]
    },
    {
     "name": "stderr",
     "output_type": "stream",
     "text": [
      "\r"
     ]
    },
    {
     "name": "stdout",
     "output_type": "stream",
     "text": [
      "Transcrição do segmento 460-480s:  instaladas, acabando com postos de emprego e sem que quem sobrasse trabalhando por muitas pessoas ganhasse mais por isso. Eles entravam nas fábricas, que não reajustavam os falários e quebravam especificamente esse tipo de equipamento. Com o apoio amplo da população, inclusive, aos luditas. A monarquia inglesa precisou de muita\n",
      "MoviePy - Writing audio in segmento_temporario_480.wav\n"
     ]
    },
    {
     "name": "stderr",
     "output_type": "stream",
     "text": [
      "                                                        "
     ]
    },
    {
     "name": "stdout",
     "output_type": "stream",
     "text": [
      "MoviePy - Done.\n"
     ]
    },
    {
     "name": "stderr",
     "output_type": "stream",
     "text": [
      "\r"
     ]
    },
    {
     "name": "stdout",
     "output_type": "stream",
     "text": [
      "Transcrição do segmento 480-500s:  pressão de leis muito severas para poder acabar com o movimento de uma forma tão completa que o termo ludita virou um chingamento hoje em dia. E apesar dessa popularidade dos protestos, a aposta dos donos de fábrica era que mesmo se as roupas fossem mais simples e muito menos bem acabadas do que peças artesanais, elas só precisavam ser\n",
      "MoviePy - Writing audio in segmento_temporario_500.wav\n"
     ]
    },
    {
     "name": "stderr",
     "output_type": "stream",
     "text": [
      "                                                        "
     ]
    },
    {
     "name": "stdout",
     "output_type": "stream",
     "text": [
      "MoviePy - Done.\n"
     ]
    },
    {
     "name": "stderr",
     "output_type": "stream",
     "text": [
      "\r"
     ]
    },
    {
     "name": "stdout",
     "output_type": "stream",
     "text": [
      "Transcrição do segmento 500-520s:  baratas e boas o suficiente para serem aceitas como mais apelativas e acertaram em cheio. E essa automação meia boca que não substitui necessariamente o original mas que lança algo parecido, que é pior, mas é bom o suficiente da autô, do que a gente começa a passar agora. Eu precisava contar sobre essa experiência com altos e baixos\n",
      "MoviePy - Writing audio in segmento_temporario_520.wav\n"
     ]
    },
    {
     "name": "stderr",
     "output_type": "stream",
     "text": [
      "                                                        "
     ]
    },
    {
     "name": "stdout",
     "output_type": "stream",
     "text": [
      "MoviePy - Done.\n"
     ]
    },
    {
     "name": "stderr",
     "output_type": "stream",
     "text": [
      "\r"
     ]
    },
    {
     "name": "stdout",
     "output_type": "stream",
     "text": [
      "Transcrição do segmento 520-540s:  para realmente poder passar para você a noção do tipo de substituição que a gente está falando em boa parte dos casos onde se diz que ferramentas generativas, modelos de linguagem generativos como o chat EPP vão substituir o trabalho das pessoas. Se a sua noção do trabalho dessas pessoas que está sendo substituída é tão boa quanto a noção de quem come só\n",
      "MoviePy - Writing audio in segmento_temporario_540.wav\n"
     ]
    },
    {
     "name": "stderr",
     "output_type": "stream",
     "text": [
      "                                                        "
     ]
    },
    {
     "name": "stdout",
     "output_type": "stream",
     "text": [
      "MoviePy - Done.\n"
     ]
    },
    {
     "name": "stderr",
     "output_type": "stream",
     "text": [
      "\r"
     ]
    },
    {
     "name": "stdout",
     "output_type": "stream",
     "text": [
      "Transcrição do segmento 540-560s:  a feijó da vegetariana vão mesmo substituir. Robôs e programas de computador, como os modelos de linguagem complexas, os LLMs que movem, chat-tpt, Gemini, LLama, Clode e outros, não precisam ser inteligentes o suficiente para substituírem o que você faz e nem são. Eles só precisam trabalhar\n",
      "MoviePy - Writing audio in segmento_temporario_560.wav\n"
     ]
    },
    {
     "name": "stderr",
     "output_type": "stream",
     "text": [
      "                                                        "
     ]
    },
    {
     "name": "stdout",
     "output_type": "stream",
     "text": [
      "MoviePy - Done.\n"
     ]
    },
    {
     "name": "stderr",
     "output_type": "stream",
     "text": [
      "\r"
     ]
    },
    {
     "name": "stdout",
     "output_type": "stream",
     "text": [
      "Transcrição do segmento 560-580s:  bem o suficiente para impressionar quem decide contratações ou assinaturas de serviço de que são capazes disso. Se não forem, se forem substitutos toscos, mas a noção de quem gerencia esses empregos for equivalente à noção de quem fez aquela feijuada de legumes, a ameaça de fato é real. Ainda que não\n",
      "MoviePy - Writing audio in segmento_temporario_580.wav\n"
     ]
    },
    {
     "name": "stderr",
     "output_type": "stream",
     "text": [
      "                                                        "
     ]
    },
    {
     "name": "stdout",
     "output_type": "stream",
     "text": [
      "MoviePy - Done.\n"
     ]
    },
    {
     "name": "stderr",
     "output_type": "stream",
     "text": [
      "\r"
     ]
    },
    {
     "name": "stdout",
     "output_type": "stream",
     "text": [
      "Transcrição do segmento 580-600s:  seja equivalente e que mais atrapalhem do que ajudam na prática para quem acaba usando. A OpenAI e outras empresas continuam lançando novos modelos de linguagem cada vez mais complexos e cada vez mais capazes que podem nas palavras deles, abrir aspas aí, raciocinar em audiovisão e tempo real.\n",
      "MoviePy - Writing audio in segmento_temporario_600.wav\n"
     ]
    },
    {
     "name": "stderr",
     "output_type": "stream",
     "text": [
      "                                                        "
     ]
    },
    {
     "name": "stdout",
     "output_type": "stream",
     "text": [
      "MoviePy - Done.\n"
     ]
    },
    {
     "name": "stderr",
     "output_type": "stream",
     "text": [
      "\r"
     ]
    },
    {
     "name": "stdout",
     "output_type": "stream",
     "text": [
      "Transcrição do segmento 600-620s:  mais continuam falhando em um ponto crucial. Como eu repito constantemente aqui, e as generativas não raciocinam e não são capazes de distinguir se o que estão gerando faz sentido ou não no mundo real. Um trabalho bem interessante que demonstrou isso vem de um grupo de inteligência artificial da Apple que testou a capacidade\n",
      "MoviePy - Writing audio in segmento_temporario_620.wav\n"
     ]
    },
    {
     "name": "stderr",
     "output_type": "stream",
     "text": [
      "                                                        "
     ]
    },
    {
     "name": "stdout",
     "output_type": "stream",
     "text": [
      "MoviePy - Done.\n"
     ]
    },
    {
     "name": "stderr",
     "output_type": "stream",
     "text": [
      "\r"
     ]
    },
    {
     "name": "stdout",
     "output_type": "stream",
     "text": [
      "Transcrição do segmento 620-640s:  de várias e as generativas de acertar em testes lógicos do tipo, João tinha cinco mangas, ganhou mais três no domingo, chupou duas e deu uma para Maria. Com quantas mangas o João ficou? E aí, no melhor estilo chaves de essa eu sabia como laranjas, substituindo as frutas da questão ou a ordem dos acordos,\n",
      "MoviePy - Writing audio in segmento_temporario_640.wav\n"
     ]
    },
    {
     "name": "stderr",
     "output_type": "stream",
     "text": [
      "                                                        "
     ]
    },
    {
     "name": "stdout",
     "output_type": "stream",
     "text": [
      "MoviePy - Done.\n"
     ]
    },
    {
     "name": "stderr",
     "output_type": "stream",
     "text": [
      "\r"
     ]
    },
    {
     "name": "stdout",
     "output_type": "stream",
     "text": [
      "Transcrição do segmento 640-660s:  acontecimentos ou até só o dia da semana a taxa de acerto dos modelos podia variar muito, o que é um ótimo sinal de que esses modelos estão simplesmente encontrando padrões nos textos para poder gerar respostas de acordo com os dados de treino, e não raciocinando de fato sobre o que é perguntado, já que alguém que realmente para para deduzir e\n",
      "MoviePy - Writing audio in segmento_temporario_660.wav\n"
     ]
    },
    {
     "name": "stderr",
     "output_type": "stream",
     "text": [
      "                                                        "
     ]
    },
    {
     "name": "stdout",
     "output_type": "stream",
     "text": [
      "MoviePy - Done.\n"
     ]
    },
    {
     "name": "stderr",
     "output_type": "stream",
     "text": [
      "\r"
     ]
    },
    {
     "name": "stdout",
     "output_type": "stream",
     "text": [
      "Transcrição do segmento 660-680s:  fazer a conta deve acertar a pergunta para uma fruta ou outra independente de se o João fez isso na quinta ou na sexta-feira. Pior ainda, quando sentências que não ajudavam eram adicionadas colocadas no meio das perguntas, como falar por exemplo que o João escolheu 40 mangas na sexta-feira e cinco delas eram menores do que as outras,\n",
      "MoviePy - Writing audio in segmento_temporario_680.wav\n"
     ]
    },
    {
     "name": "stderr",
     "output_type": "stream",
     "text": [
      "                                                        "
     ]
    },
    {
     "name": "stdout",
     "output_type": "stream",
     "text": [
      "MoviePy - Done.\n"
     ]
    },
    {
     "name": "stderr",
     "output_type": "stream",
     "text": [
      "\r"
     ]
    },
    {
     "name": "stdout",
     "output_type": "stream",
     "text": [
      "Transcrição do segmento 680-700s:  isso complicou ainda mais as chances de acerto dos modelos. De novo, para alguém que tivesse de fato raciocinando sobre o problema, tanto faz se a manga em questão é grande ou pequena, verde ou madura, mas para um sistema que está combinando padrões e palavras para gerar sentenças, uma sentença diferente pode mudar o padrão de resposta sendo gerado. E é a nossa capacidade\n",
      "MoviePy - Writing audio in segmento_temporario_700.wav\n"
     ]
    },
    {
     "name": "stderr",
     "output_type": "stream",
     "text": [
      "                                                        "
     ]
    },
    {
     "name": "stdout",
     "output_type": "stream",
     "text": [
      "MoviePy - Done.\n"
     ]
    },
    {
     "name": "stderr",
     "output_type": "stream",
     "text": [
      "\r"
     ]
    },
    {
     "name": "stdout",
     "output_type": "stream",
     "text": [
      "Transcrição do segmento 700-720s:  de raciocínio absurda que entende esses padrões reconstruídos como uma resposta gerada como um sinal de inteligência falso. Só que padrões não precisam seguir a nossa lógica. Daí as alucinações, as respostas erradas que podem ser geradas, geradas mesmo em situações críticas, como usar o modelo de linguagem desses em ambições\n",
      "MoviePy - Writing audio in segmento_temporario_720.wav\n"
     ]
    },
    {
     "name": "stderr",
     "output_type": "stream",
     "text": [
      "                                                        "
     ]
    },
    {
     "name": "stdout",
     "output_type": "stream",
     "text": [
      "MoviePy - Done.\n"
     ]
    },
    {
     "name": "stderr",
     "output_type": "stream",
     "text": [
      "\r"
     ]
    },
    {
     "name": "stdout",
     "output_type": "stream",
     "text": [
      "Transcrição do segmento 720-740s:  profissional. E não adianta esperar que o próximo modelo, o GPT-5, 6 ou o que for, será diferente se o sistema continuar sendo treinado do jeito que ele é. Não só porque os dados de treinos são limitados, mas também porque quanto mais especializada e mais bem treinada é a generativa, com o que se tem hoje,\n",
      "MoviePy - Writing audio in segmento_temporario_740.wav\n"
     ]
    },
    {
     "name": "stderr",
     "output_type": "stream",
     "text": [
      "                                                        "
     ]
    },
    {
     "name": "stdout",
     "output_type": "stream",
     "text": [
      "MoviePy - Done.\n"
     ]
    },
    {
     "name": "stderr",
     "output_type": "stream",
     "text": [
      "\r"
     ]
    },
    {
     "name": "stdout",
     "output_type": "stream",
     "text": [
      "Transcrição do segmento 740-760s:  Não quer dizer que ela cometa menos erros, e sim que a gente vai ter cada vez mais dificuldade em reconhecer onde ela errou. Erros mais complexos são mais difíceis de reconhecer, porque eles são mais específicos e porque exigem muito mais conhecimento da parte de quem usa a ferramenta para reparar que aconteceram.\n",
      "MoviePy - Writing audio in segmento_temporario_760.wav\n"
     ]
    },
    {
     "name": "stderr",
     "output_type": "stream",
     "text": [
      "                                                        "
     ]
    },
    {
     "name": "stdout",
     "output_type": "stream",
     "text": [
      "MoviePy - Done.\n"
     ]
    },
    {
     "name": "stderr",
     "output_type": "stream",
     "text": [
      "\r"
     ]
    },
    {
     "name": "stdout",
     "output_type": "stream",
     "text": [
      "Transcrição do segmento 760-780s:  e sistemas mais complexos, em um dos poucos paralelos que eu realmente vejo com a inteligência humana, podem conter mais informação, mas isso quer dizer também que eles são melhores em confabular e inventar uma resposta que se passa por verdadeira, mas não é. Especialmente no caso dos modelos de linguagem, quando eles são treinados\n",
      "MoviePy - Writing audio in segmento_temporario_780.wav\n"
     ]
    },
    {
     "name": "stderr",
     "output_type": "stream",
     "text": [
      "                                                        "
     ]
    },
    {
     "name": "stdout",
     "output_type": "stream",
     "text": [
      "MoviePy - Done.\n"
     ]
    },
    {
     "name": "stderr",
     "output_type": "stream",
     "text": [
      "\r"
     ]
    },
    {
     "name": "stdout",
     "output_type": "stream",
     "text": [
      "Transcrição do segmento 780-800s:  para não responderem de forma evasiva, dizendo que não sabem de algo, para não desapontar os usuários que estão querendo usar aquilo para fazer alguma coisa. E um estudo que testou o desempenho de gerações progressivas de modelos do chat chpt e da LLM cada vez mais complexos, o que viram foi que os modelos mais recentes e mais complexos\n",
      "MoviePy - Writing audio in segmento_temporario_800.wav\n"
     ]
    },
    {
     "name": "stderr",
     "output_type": "stream",
     "text": [
      "                                                        "
     ]
    },
    {
     "name": "stdout",
     "output_type": "stream",
     "text": [
      "MoviePy - Done.\n"
     ]
    },
    {
     "name": "stderr",
     "output_type": "stream",
     "text": [
      "\r"
     ]
    },
    {
     "name": "stdout",
     "output_type": "stream",
     "text": [
      "Transcrição do segmento 800-820s:  flexos na verdade erraram mais. Não porque eles passaram a dar respostas erradas, onde antes modelos mais simples acertavam, mas sim porque eles começaram a responder mais própets e responder errado ao invés de se retratarem e darem uma resposta de que não tinham aquela informação como os modelos mais simples faziam. Se é para humanizar o que acontece,\n",
      "MoviePy - Writing audio in segmento_temporario_820.wav\n"
     ]
    },
    {
     "name": "stderr",
     "output_type": "stream",
     "text": [
      "                                                        "
     ]
    },
    {
     "name": "stdout",
     "output_type": "stream",
     "text": [
      "MoviePy - Done.\n"
     ]
    },
    {
     "name": "stderr",
     "output_type": "stream",
     "text": [
      "\r"
     ]
    },
    {
     "name": "stdout",
     "output_type": "stream",
     "text": [
      "Transcrição do segmento 820-840s:  quanto mais complexo o modelo, mas ele acha que sabe mesmo quando está completamente errado no prompt que ele está gerando. Só que aí é mais difícil você identificar. Ou seja, idealmente você tem que entender muito bem do que você está fazendo para poder gerar uma resposta crítica e ainda ser capaz de reconhecer os problemas que estão nela. Uma ferramenta dessas\n",
      "MoviePy - Writing audio in segmento_temporario_840.wav\n"
     ]
    },
    {
     "name": "stderr",
     "output_type": "stream",
     "text": [
      "                                                        "
     ]
    },
    {
     "name": "stdout",
     "output_type": "stream",
     "text": [
      "MoviePy - Done.\n"
     ]
    },
    {
     "name": "stderr",
     "output_type": "stream",
     "text": [
      "\r"
     ]
    },
    {
     "name": "stdout",
     "output_type": "stream",
     "text": [
      "Transcrição do segmento 840-860s:  que ajuda na sua produtividade em algo que você domina e pode checar a informação pode ser ótima, mas fora da sua área você talvez esteja recebendo uma feijoada de vegetais sem nem saber como era original. Modelos de linguagem estão na verdade gerando mais trabalho do que poupam para muita gente. Na mesma linha, dos caixas automáticos dos\n",
      "MoviePy - Writing audio in segmento_temporario_860.wav\n"
     ]
    },
    {
     "name": "stderr",
     "output_type": "stream",
     "text": [
      "                                                        "
     ]
    },
    {
     "name": "stdout",
     "output_type": "stream",
     "text": [
      "MoviePy - Done.\n"
     ]
    },
    {
     "name": "stderr",
     "output_type": "stream",
     "text": [
      "\r"
     ]
    },
    {
     "name": "stdout",
     "output_type": "stream",
     "text": [
      "Transcrição do segmento 860-880s:  supermercado que fazem você trabalhar para comprar os produtos e ao mesmo tempo fazem com que os funcionários que sobraram tenham trabalho extra ajudando a atender não só os caixas deles mas as pessoas que empacaram no aparelho tentando digitar um código que não passa ou pesar uma fruta que não sabem como pesar. As dúvidas sobre os grandes ganhos que eles trariam\n",
      "MoviePy - Writing audio in segmento_temporario_880.wav\n"
     ]
    },
    {
     "name": "stderr",
     "output_type": "stream",
     "text": [
      "                                                        "
     ]
    },
    {
     "name": "stdout",
     "output_type": "stream",
     "text": [
      "MoviePy - Done.\n"
     ]
    },
    {
     "name": "stderr",
     "output_type": "stream",
     "text": [
      "\r"
     ]
    },
    {
     "name": "stdout",
     "output_type": "stream",
     "text": [
      "Transcrição do segmento 880-900s:  já começaram no meio de 2024 entre fundos de investimento consultorias e publicações da área, como a Bloomberg ou a Goldman Sachs, questionando tantas promessas com poucas entregas. E as suspeitas começam a se confirmar em estudos práticos agora. Os usos mais comuns e empresas dessas\n",
      "MoviePy - Writing audio in segmento_temporario_900.wav\n"
     ]
    },
    {
     "name": "stderr",
     "output_type": "stream",
     "text": [
      "                                                        "
     ]
    },
    {
     "name": "stdout",
     "output_type": "stream",
     "text": [
      "MoviePy - Done.\n"
     ]
    },
    {
     "name": "stderr",
     "output_type": "stream",
     "text": [
      "\r"
     ]
    },
    {
     "name": "stdout",
     "output_type": "stream",
     "text": [
      "Transcrição do segmento 900-920s:  tem sido o resumo de informação e geração de relatórios, além de busca de informação de documentos e processamento como a produção de tabelas. Em situações mais elaboradas, como ter chatbots que são construídos para atender clientes ou profissionais e que vão responder com base em dados internos ou dados da internet,\n",
      "MoviePy - Writing audio in segmento_temporario_920.wav\n"
     ]
    },
    {
     "name": "stderr",
     "output_type": "stream",
     "text": [
      "                                                        "
     ]
    },
    {
     "name": "stdout",
     "output_type": "stream",
     "text": [
      "MoviePy - Done.\n"
     ]
    },
    {
     "name": "stderr",
     "output_type": "stream",
     "text": [
      "\r"
     ]
    },
    {
     "name": "stdout",
     "output_type": "stream",
     "text": [
      "Transcrição do segmento 920-940s:  o internet. Os problemas se multiplicam ainda mais. Porque em qualquer uso dessas ferramentas, uma mesma pergunta pode ser respondida de várias formas diferentes cada vez que a pergunta é feita. Ou seja, não tem consistência no que é gerado. E aí se não tem consistência, o que acontece quando um departamento apresenta uma resposta que valida os seus interesses\n",
      "MoviePy - Writing audio in segmento_temporario_940.wav\n"
     ]
    },
    {
     "name": "stderr",
     "output_type": "stream",
     "text": [
      "                                                        "
     ]
    },
    {
     "name": "stdout",
     "output_type": "stream",
     "text": [
      "MoviePy - Done.\n"
     ]
    },
    {
     "name": "stderr",
     "output_type": "stream",
     "text": [
      "\r"
     ]
    },
    {
     "name": "stdout",
     "output_type": "stream",
     "text": [
      "Transcrição do segmento 940-960s:  outro departamento apresenta uma outra resposta que também foi gerada pelo mesmo modelo de linguagem, mas que dá conclusões que são contrárias e que são contraditórias entre elas. Quem vai validar isso ou conciliar os dois? E o sistema é fechado, não dá pra saber o que deu errado, por que uma resposta mudou ou por que uma resposta não atendeu nem o que era pedido.\n",
      "MoviePy - Writing audio in segmento_temporario_960.wav\n"
     ]
    },
    {
     "name": "stderr",
     "output_type": "stream",
     "text": [
      "                                                        "
     ]
    },
    {
     "name": "stdout",
     "output_type": "stream",
     "text": [
      "MoviePy - Done.\n"
     ]
    },
    {
     "name": "stderr",
     "output_type": "stream",
     "text": [
      "\r"
     ]
    },
    {
     "name": "stdout",
     "output_type": "stream",
     "text": [
      "Transcrição do segmento 960-980s:  o problema de quem valida as respostas, já que elas não são nem previsíveis nem consistentes. Ao contrário de um funcionário, não dá para perguntar para o chat EPT como ele gerou cada resposta, como ele chegou numa conclusão que não é uma conclusão, ou pedir para ele pensar de uma forma diferente das próximas vezes. Nem dá para responsabilizar ele por decisões erradas. E quanto\n",
      "MoviePy - Writing audio in segmento_temporario_980.wav\n"
     ]
    },
    {
     "name": "stderr",
     "output_type": "stream",
     "text": [
      "                                                        "
     ]
    },
    {
     "name": "stdout",
     "output_type": "stream",
     "text": [
      "MoviePy - Done.\n"
     ]
    },
    {
     "name": "stderr",
     "output_type": "stream",
     "text": [
      "\r"
     ]
    },
    {
     "name": "stdout",
     "output_type": "stream",
     "text": [
      "Transcrição do segmento 980-1000s:  mais personalizado para uma empresa, o resultado tiver que ser para poder gerar respostas para perguntas como, onde o nosso processo poderia ser otimizado para esse mercado onde atuamos, quais regulamentações a gente precisa ou não atender para fazer o processo Y? Mais dados proprietários e sigilosos precisam ser levantados e preparados\n",
      "MoviePy - Writing audio in segmento_temporario_1000.wav\n"
     ]
    },
    {
     "name": "stderr",
     "output_type": "stream",
     "text": [
      "                                                        "
     ]
    },
    {
     "name": "stdout",
     "output_type": "stream",
     "text": [
      "MoviePy - Done.\n"
     ]
    },
    {
     "name": "stderr",
     "output_type": "stream",
     "text": [
      "\r"
     ]
    },
    {
     "name": "stdout",
     "output_type": "stream",
     "text": [
      "Transcrição do segmento 1000-1020s:  para treinar esses modelos. E aí o resultado é que entre organizar o material, fazer a consulta, checar o que é gerado, os modelos de linguagem estão dando mais trabalho do que poupam para as empresas. Pior, mesmo nas situações com ganho de produtividade, onde profissionais qualificados que têm a capacidade de checar o resultado gerado por um modelo de linguagem podem\n",
      "MoviePy - Writing audio in segmento_temporario_1020.wav\n"
     ]
    },
    {
     "name": "stderr",
     "output_type": "stream",
     "text": [
      "                                                        "
     ]
    },
    {
     "name": "stdout",
     "output_type": "stream",
     "text": [
      "MoviePy - Done.\n"
     ]
    },
    {
     "name": "stderr",
     "output_type": "stream",
     "text": [
      "\r"
     ]
    },
    {
     "name": "stdout",
     "output_type": "stream",
     "text": [
      "Transcrição do segmento 1020-1040s:  fazer isso, entre gerar uma resposta e editar o resultado conferindo ponto a ponto ou simplesmente encaminhar a resposta sem bater o olho no que saiu, o que você acha que uma pessoa sob a pressão de render mais usando a nova ferramenta que está custando caro vai fazer? Ela vai checar e trabalhar dobrado ou ela vai mandar direto que ela recebeu?\n",
      "MoviePy - Writing audio in segmento_temporario_1040.wav\n"
     ]
    },
    {
     "name": "stderr",
     "output_type": "stream",
     "text": [
      "                                                        "
     ]
    },
    {
     "name": "stdout",
     "output_type": "stream",
     "text": [
      "MoviePy - Done.\n"
     ]
    },
    {
     "name": "stderr",
     "output_type": "stream",
     "text": [
      "\r"
     ]
    },
    {
     "name": "stdout",
     "output_type": "stream",
     "text": [
      "Transcrição do segmento 1040-1060s:  o prazo, o custo dessa organização de informação pode não se pagar. As primeiras simulações da dinâmica entre a adoção de serviços de inteligência artificial e o potencial de empregos perdidos para esse tipo de automação dão conta de que essa transição é bem mais lenta e delicada do que parece. Pelo menos usando como exemplo\n",
      "MoviePy - Writing audio in segmento_temporario_1060.wav\n"
     ]
    },
    {
     "name": "stderr",
     "output_type": "stream",
     "text": [
      "                                                        "
     ]
    },
    {
     "name": "stdout",
     "output_type": "stream",
     "text": [
      "MoviePy - Done.\n"
     ]
    },
    {
     "name": "stderr",
     "output_type": "stream",
     "text": [
      "\r"
     ]
    },
    {
     "name": "stdout",
     "output_type": "stream",
     "text": [
      "Transcrição do segmento 1060-1080s:  o campo de visão computacional, que é a interpretação de imagens por computadores que poderiam, por exemplo, fazer diagnósticos com base em radiografias, que é onde os custos e a eficiência dos sistemas já são mais conhecidos para fazer análises. Para ferramentas de A compensarem financeiramente o suficiente para serem adotadas\n",
      "MoviePy - Writing audio in segmento_temporario_1080.wav\n"
     ]
    },
    {
     "name": "stderr",
     "output_type": "stream",
     "text": [
      "                                                        "
     ]
    },
    {
     "name": "stdout",
     "output_type": "stream",
     "text": [
      "MoviePy - Done.\n"
     ]
    },
    {
     "name": "stderr",
     "output_type": "stream",
     "text": [
      "\r"
     ]
    },
    {
     "name": "stdout",
     "output_type": "stream",
     "text": [
      "Transcrição do segmento 1080-1100s:  a ponto de substituir as pessoas, o mercado todo teria que adotar a mesma solução da mesma marca otimizada. Caso contrário, ainda é mais efetivo pagar pessoas. Segundo o estudo que testou esse campo, mesmo se o custo desse tipo de ferramenta continua caindo 20% ao ano, ainda seriam necessárias décadas.\n",
      "MoviePy - Writing audio in segmento_temporario_1100.wav\n"
     ]
    },
    {
     "name": "stderr",
     "output_type": "stream",
     "text": [
      "                                                        "
     ]
    },
    {
     "name": "stdout",
     "output_type": "stream",
     "text": [
      "MoviePy - Done.\n"
     ]
    },
    {
     "name": "stderr",
     "output_type": "stream",
     "text": [
      "\r"
     ]
    },
    {
     "name": "stdout",
     "output_type": "stream",
     "text": [
      "Transcrição do segmento 1100-1120s:  para realmente substituir empregos em firmas. Isso no campo de visão computacional. No caso dos modelos de linguagem, ainda nem sabemos os custos reais de poder rodar esses sistemas. Não sabemos nem de longas aliás, já que Gemini, Shet, ShpT, Clo, de outros são todos subsidiados pelas empresas que estão copetindo para oferecer serviços\n",
      "MoviePy - Writing audio in segmento_temporario_1120.wav\n"
     ]
    },
    {
     "name": "stderr",
     "output_type": "stream",
     "text": [
      "                                                        "
     ]
    },
    {
     "name": "stdout",
     "output_type": "stream",
     "text": [
      "MoviePy - Done.\n"
     ]
    },
    {
     "name": "stderr",
     "output_type": "stream",
     "text": [
      "\r"
     ]
    },
    {
     "name": "stdout",
     "output_type": "stream",
     "text": [
      "Transcrição do segmento 1120-1140s:  com o prejuízo de bilhões de dólares por ano enquanto captam os clientes que só depois de ficarem dependentes vão descobrir o custo real. Sim, a perspectiva é gerarem perdas de muitos bilhões pelos próximos anos, em grande parte pela demanda de energia que esses programas consomem, mesmo levando\n",
      "MoviePy - Writing audio in segmento_temporario_1140.wav\n"
     ]
    },
    {
     "name": "stderr",
     "output_type": "stream",
     "text": [
      "                                                        "
     ]
    },
    {
     "name": "stdout",
     "output_type": "stream",
     "text": [
      "MoviePy - Done.\n"
     ]
    },
    {
     "name": "stderr",
     "output_type": "stream",
     "text": [
      "\r"
     ]
    },
    {
     "name": "stdout",
     "output_type": "stream",
     "text": [
      "Transcrição do segmento 1140-1160s:  conta que os próximos chips e sistemas devem ser otimizados para serem mais eficientes. Tanto é o caso que pelo menos a Amazon, a Microsoft e o Google estão tentando comprar, reativar ou construir usinas nucleares para dar conta de gerar a energia que os seus modelos de linguagem consomem. Sim, isso que você ouviu.\n",
      "MoviePy - Writing audio in segmento_temporario_1160.wav\n"
     ]
    },
    {
     "name": "stderr",
     "output_type": "stream",
     "text": [
      "                                                        "
     ]
    },
    {
     "name": "stdout",
     "output_type": "stream",
     "text": [
      "MoviePy - Done.\n"
     ]
    },
    {
     "name": "stderr",
     "output_type": "stream",
     "text": [
      "\r"
     ]
    },
    {
     "name": "stdout",
     "output_type": "stream",
     "text": [
      "Transcrição do segmento 1160-1180s:  Ou seja, pelo menos no caso dos sistemas generativos atuais, se eles substituírem empregos, são empregos perdidos para ferramentas que não dão resultados consistentes ou confiáveis, que custam muito mais do que aparentam e que não devem ficar mais acuradas ou muito mais baratas em um futuro mais próximo.\n",
      "MoviePy - Writing audio in segmento_temporario_1180.wav\n"
     ]
    },
    {
     "name": "stderr",
     "output_type": "stream",
     "text": [
      "                                                        "
     ]
    },
    {
     "name": "stdout",
     "output_type": "stream",
     "text": [
      "MoviePy - Done.\n"
     ]
    },
    {
     "name": "stderr",
     "output_type": "stream",
     "text": [
      "\r"
     ]
    },
    {
     "name": "stdout",
     "output_type": "stream",
     "text": [
      "Transcrição do segmento 1180-1200s:  seria trocar a feijoada pela feijoada vegetariana que só agrada de verdade quem não conhece a original e está tão distante da realidade que não sente a diferença entre elas. O que de certa forma já se aplica a tradutores, artistas gráficos e outros profissionais que venham seu trabalho sendo feito pelos modelos de linguagem generativa e trabalhos sendo\n",
      "MoviePy - Writing audio in segmento_temporario_1200.wav\n"
     ]
    },
    {
     "name": "stderr",
     "output_type": "stream",
     "text": [
      "                                                        "
     ]
    },
    {
     "name": "stdout",
     "output_type": "stream",
     "text": [
      "MoviePy - Done.\n"
     ]
    },
    {
     "name": "stderr",
     "output_type": "stream",
     "text": [
      "\r"
     ]
    },
    {
     "name": "stdout",
     "output_type": "stream",
     "text": [
      "Transcrição do segmento 1200-1220s:  aceitos por quem não produz porque não precisa ser ótimo. Pode ser ruim, só tem que ser bom o suficiente. E principalmente no caso de artistas, isso vem repetindo o processo inglês de ter o trabalho artesanal copiado pelas máquinas que entram no seu lugar. Assim como nas fábricas automatizadas do século 19, quem decidia se a mão de obra era substituída por máquinas ou não,\n",
      "MoviePy - Writing audio in segmento_temporario_1220.wav\n"
     ]
    },
    {
     "name": "stderr",
     "output_type": "stream",
     "text": [
      "                                                        "
     ]
    },
    {
     "name": "stdout",
     "output_type": "stream",
     "text": [
      "MoviePy - Done.\n"
     ]
    },
    {
     "name": "stderr",
     "output_type": "stream",
     "text": [
      "\r"
     ]
    },
    {
     "name": "stdout",
     "output_type": "stream",
     "text": [
      "Transcrição do segmento 1220-1240s:  foram nem os operários, nem as máquinas, foram os donos das máquinas que dependem muito mais da aceitação do público dos produtos e serviços feitos por elas do que qualquer outra coisa. Se você gostou dessa conversa e que tem outras dessas por aqui, aproveita, assina, se inscreve no canal assim você recebe os próximos vídeos e o nosso podcast que é o Não Ficção que são conversas do dia\n",
      "MoviePy - Writing audio in segmento_temporario_1240.wav\n"
     ]
    },
    {
     "name": "stderr",
     "output_type": "stream",
     "text": [
      "                                                        "
     ]
    },
    {
     "name": "stdout",
     "output_type": "stream",
     "text": [
      "MoviePy - Done.\n"
     ]
    },
    {
     "name": "stderr",
     "output_type": "stream",
     "text": [
      "\r"
     ]
    },
    {
     "name": "stdout",
     "output_type": "stream",
     "text": [
      "Transcrição do segmento 1240-1260s:  de ciência do dia a dia com especialistas, incluindo conversas sobre mecanização do trabalho, substituição dele e trabalho em plataformas, como os dois episódios que eu vou deixar por aqui. Até o próximo.\n",
      "\n",
      "Transcrição completa:\n",
      " Eu sei que eu deveria começar um vídeo sobre trabalhos que vão ser ou não substituídos pela inteligência artificial com avanços recentes dos programas ou quem sabe com relatórios de firmas de investimento grandes estimando quantos postos de trabalho serão perdidos. Como se robôs fossem mandar um currículo no seu lugar e pegar o seu emprego. Mas não.\n",
      " A influência, pelo menos dos modelos de linguagem e da moda, vai fazer mais sentido se a gente começar falando de feijoada, ou quase uma feijoada. E eu juro que não há história pra enrolar não. É hora de falar sobre algo ruim, mas bom o suficiente. Ah, mas antes de entrar em que tipo de trabalho que as ferramentas atuais realmente substituem, uma ferramenta insubstituíva\n",
      " para a sua privacidade é o nosso apoiador. Se você quer navegar com proteção dos seus dados auditada, com segurança e sem registro da sua atividade, esse vídeo aqui tem o apoio da Surfshark, que é a VPN que eu uso quando eu estou, por exemplo, usando Wi-Fi em viagens, que é quando eu quero manter minha navegação e os meus dados privados com aplicativos tanto para iOS quanto para Android que me deixam proteger.\n",
      " você pode proteger a navegação no celular, no tablet, no Chromebook ou onde for, simultaneamente, de maneira bem fácil. E o melhor, você pode compartilhar sua conta com amigos ou familiares e dividir o custo. E com o meu cupom de desconto atila ou escaneando o QR Code aqui da tela, você tem 4 meses grátis de assinatura e 30 dias com\n",
      " com devolução do seu dinheiro garantida para poder ver como a Surfshark não atrasa a navegação, não mantém histórico nem outros dados seus. E tem mais, assinando a Surfshark One você tem mais do que a VPN, você tem acesso a ferramentas como Alert, que é um serviço que avisa se os seus dados pessoais, como usuário, senha ou e-mail, foram vazados em alguns\n",
      " serviço que você usa. Assim você sabe que, mesmo se não usar mais aquele serviço em particular, tem que trocar usuário sem a de outros que compartilhem os mesmos dados. Tudo começa com o Congresso, que eu fui visitar na Colorado University, onde eu encontrei em 30 de março de 2017 as 18h23, uma feijoada de vegetais\n",
      " brasileira, essa que você pode ver na tela. E se você não pode ver a tela, deixa eu descrever o que tem na foto. São vários pedaços de cenoura picados em diferentes tamanhos, um molho vermelho que deve ter sido feito com tomate ou com beterraba ou os dois, pedaços indistinguíveis de algum vegetal marrom, o que parecem ser pedaços de vagem ou pimentão e alguns\n",
      " de míseros grãos de feijão tristes e espalhados aqui e ali que não parecem nem cozidos direito. Ao ponto que eu, se o nome do prato não fosse feijoada e tivesse esperando pelo menos algum feijão preto, acharia que são uvas passas. Essa feijoada não me assombra porque ela deve ser ruim. Como uma caçarola de vegetais ou algo assim, ela deve até ser\n",
      " Ela me assombra porque isso é tudo, menos uma feijoada, já que mal feijão tem. E desculpa quem não come carne, mas que feijoada brasileira que não tem carne de porco, como assim? De novo, desculpa se a sua região tem algo que é chamado de feijoada, mas aqui, do alto da minha ignorância, feijoada de vegetais, pelo menos desse jeito.\n",
      " faz tanto sentido quanto um medalhão de batata. A minha sensação quando vi isso deve ser a mesma de um japonês vendo a nossa sopa de sushi, tanto que eu tive que tirar essa foto e registrar o momento. Meu ponto com a feijoada é o seguinte, da maioria das pessoas que estavam ali naquele evento, se servindo desse prato, eu devo ser um dos\n",
      " que ficou realmente horrorizado ou indignado dessa forma. Porque pra muita gente lá que nunca viu uma feijoada de verdade, essa experiência pode preencher a categoria mental de feijoada dessas pessoas e aí toda vez que elas pensarem nesse prato ou que ouvirem alguém falando que no Brasil, pelo menos no meu canto do Brasil, quarta-feira é dia de feijoada, aquilo é o que se come.\n",
      " sem nunca saber que isso não tem nada a ver com a feijoada brasileira ou com quem vive aqui ou a experiência que a gente passa aqui quando comemos uma feijoada. O que é mais triste ainda, porque não só essa pessoa vai estar enganada pelo resto da vida, como ela vai levar uma vida mais pobre e mais sem graça de alguém que nunca comeu um bom feijão preto carregado de pai ou linguiça, costelinha e o que mais você\n",
      " você quiser colocar na sua feijoada, acompanhada de farofa, torreso, mandioca frita e mais um mundo de posibilidades que me deixam com água na boca enquanto eu escrevia e agora que eu estou falando isso. Para quem nunca com a minha feijoada, essa feijoada ruim pode até ser boa o suficiente. E esse é o cerne da questão quando a gente fala sobre que tipo de trabalho vai ser substituído e quem decide isso.\n",
      " A gente pode entrar na introdução histórica do tema. A dinâmica da substituição do trabalho não é meio pouco nova e vem junto da automação há bastante tempo já. No livro Blood in the Machine, Brian Merchant traz uma ótima discussão sobre como foi o começo da revolução industrial e o que foi a substituição do trabalho artesanal pela\n",
      " com uma ótima explicação sobre a origem da palavra ludita, que hoje é usada como xingamento, como uma crítica toda vez que alguém fala mal de uma tecnologia nova. Mas que na verdade tem uma origem que mudou completamente o que eu penso sobre o termo e tem vários paralelos com a nossa situação corrente. Porque antes da Revolução Industrial,\n",
      " ao mecanizar a produção de tecidos e de roupas, TC era um trabalho bastante artesanal que demandava anos de experiência e que podia ser feito em home office. Na Inglaterra, as pessoas que trabalhavam com tecidos trabalhavam de casa no seu horário tecendo. Não que elas trabalhassem pouco, pelo contrário, só que pelo menos tinha a autonomia de escolher\n",
      " quando e onde iam fazer o trabalho do dia, além de conseguirem manter um bom padrão de vida com a atividade com o seu trabalho artesanal. Um cenário que acabou a partir de 1780 com a mecanização conforme fábricas desenvolviam máquinas que substituíam a produção artesanal por uma série de motivos.\n",
      " compra ou quem desenvolve uma máquina precisa recuperar seu investimento. O que quer dizer que quanto mais tempo essa máquina funciona, quanto mais horas do dia ela operar, mais cedo ela se paga e começa a dar lucro. Ao mesmo tempo, quanto mais autônomo é a máquina, menos especializada tem que ser a mão de obra operando. O que quer dizer que ao invés de usar uma mão\n",
      " de obra especializada e cara de pessoas que trabalharam por anos, pessoas inexperientes podiam ser usadas para fazer o trabalho em pelo menos uma boa parte da escala dela. Tão inexperientes quanto crianças que eram levadas diretamente de orfanatos para operar as máquinas dia e noite e precisavam ser repostas porque frequentemente\n",
      " se acidentavam com equipamentos brutais. Ao ponto que o Manchante descreve a estratégia de algumas fábricas de espalhar em as vítimas entre vários cemitérios diferentes da região para não levantar em suspeitas da quantidade real de acidentados. E se hoje, artistas se revoltam com ferramentas generativas de inteligência artificial usando\n",
      " o seu trabalho sem consentimento para reproduzir um estilo artístico e ao mesmo tempo cortar em muitas suas chances de serem contratados para produzir novas artes, já naquela época os artesãos eram estudados para o desenvolvimento de máquinas que repetiam as suas técnicas e acabavam com as suas chances de emprego. O movimento que se organizou\n",
      " para se opor a isso, os Luditas assumiram o nome de um personagem provavelmente fictício e não protestavam contra todas as máquinas ou qualquer tecnologia nova em geral. Eles inclusive intuíam que a substituição poderia ser de certa forma inevitável. O que não queriam é que essa substituição deixasse os artesãos de lado.\n",
      " A imagem de um ludita que se faz hoje em dia, como alguém que é contra qualquer tecnologia, fala muito mais sobre o sucesso dos industriais ingleses em acabar com o movimento e executar os responsabilizados do que de fato o que eles reivindicavam. Os luditas originais protestavam especificamente contra máquinas como teares automáticos que eram\n",
      " instaladas, acabando com postos de emprego e sem que quem sobrasse trabalhando por muitas pessoas ganhasse mais por isso. Eles entravam nas fábricas, que não reajustavam os falários e quebravam especificamente esse tipo de equipamento. Com o apoio amplo da população, inclusive, aos luditas. A monarquia inglesa precisou de muita\n",
      " pressão de leis muito severas para poder acabar com o movimento de uma forma tão completa que o termo ludita virou um chingamento hoje em dia. E apesar dessa popularidade dos protestos, a aposta dos donos de fábrica era que mesmo se as roupas fossem mais simples e muito menos bem acabadas do que peças artesanais, elas só precisavam ser\n",
      " baratas e boas o suficiente para serem aceitas como mais apelativas e acertaram em cheio. E essa automação meia boca que não substitui necessariamente o original mas que lança algo parecido, que é pior, mas é bom o suficiente da autô, do que a gente começa a passar agora. Eu precisava contar sobre essa experiência com altos e baixos\n",
      " para realmente poder passar para você a noção do tipo de substituição que a gente está falando em boa parte dos casos onde se diz que ferramentas generativas, modelos de linguagem generativos como o chat EPP vão substituir o trabalho das pessoas. Se a sua noção do trabalho dessas pessoas que está sendo substituída é tão boa quanto a noção de quem come só\n",
      " a feijó da vegetariana vão mesmo substituir. Robôs e programas de computador, como os modelos de linguagem complexas, os LLMs que movem, chat-tpt, Gemini, LLama, Clode e outros, não precisam ser inteligentes o suficiente para substituírem o que você faz e nem são. Eles só precisam trabalhar\n",
      " bem o suficiente para impressionar quem decide contratações ou assinaturas de serviço de que são capazes disso. Se não forem, se forem substitutos toscos, mas a noção de quem gerencia esses empregos for equivalente à noção de quem fez aquela feijuada de legumes, a ameaça de fato é real. Ainda que não\n",
      " seja equivalente e que mais atrapalhem do que ajudam na prática para quem acaba usando. A OpenAI e outras empresas continuam lançando novos modelos de linguagem cada vez mais complexos e cada vez mais capazes que podem nas palavras deles, abrir aspas aí, raciocinar em audiovisão e tempo real.\n",
      " mais continuam falhando em um ponto crucial. Como eu repito constantemente aqui, e as generativas não raciocinam e não são capazes de distinguir se o que estão gerando faz sentido ou não no mundo real. Um trabalho bem interessante que demonstrou isso vem de um grupo de inteligência artificial da Apple que testou a capacidade\n",
      " de várias e as generativas de acertar em testes lógicos do tipo, João tinha cinco mangas, ganhou mais três no domingo, chupou duas e deu uma para Maria. Com quantas mangas o João ficou? E aí, no melhor estilo chaves de essa eu sabia como laranjas, substituindo as frutas da questão ou a ordem dos acordos,\n",
      " acontecimentos ou até só o dia da semana a taxa de acerto dos modelos podia variar muito, o que é um ótimo sinal de que esses modelos estão simplesmente encontrando padrões nos textos para poder gerar respostas de acordo com os dados de treino, e não raciocinando de fato sobre o que é perguntado, já que alguém que realmente para para deduzir e\n",
      " fazer a conta deve acertar a pergunta para uma fruta ou outra independente de se o João fez isso na quinta ou na sexta-feira. Pior ainda, quando sentências que não ajudavam eram adicionadas colocadas no meio das perguntas, como falar por exemplo que o João escolheu 40 mangas na sexta-feira e cinco delas eram menores do que as outras,\n",
      " isso complicou ainda mais as chances de acerto dos modelos. De novo, para alguém que tivesse de fato raciocinando sobre o problema, tanto faz se a manga em questão é grande ou pequena, verde ou madura, mas para um sistema que está combinando padrões e palavras para gerar sentenças, uma sentença diferente pode mudar o padrão de resposta sendo gerado. E é a nossa capacidade\n",
      " de raciocínio absurda que entende esses padrões reconstruídos como uma resposta gerada como um sinal de inteligência falso. Só que padrões não precisam seguir a nossa lógica. Daí as alucinações, as respostas erradas que podem ser geradas, geradas mesmo em situações críticas, como usar o modelo de linguagem desses em ambições\n",
      " profissional. E não adianta esperar que o próximo modelo, o GPT-5, 6 ou o que for, será diferente se o sistema continuar sendo treinado do jeito que ele é. Não só porque os dados de treinos são limitados, mas também porque quanto mais especializada e mais bem treinada é a generativa, com o que se tem hoje,\n",
      " Não quer dizer que ela cometa menos erros, e sim que a gente vai ter cada vez mais dificuldade em reconhecer onde ela errou. Erros mais complexos são mais difíceis de reconhecer, porque eles são mais específicos e porque exigem muito mais conhecimento da parte de quem usa a ferramenta para reparar que aconteceram.\n",
      " e sistemas mais complexos, em um dos poucos paralelos que eu realmente vejo com a inteligência humana, podem conter mais informação, mas isso quer dizer também que eles são melhores em confabular e inventar uma resposta que se passa por verdadeira, mas não é. Especialmente no caso dos modelos de linguagem, quando eles são treinados\n",
      " para não responderem de forma evasiva, dizendo que não sabem de algo, para não desapontar os usuários que estão querendo usar aquilo para fazer alguma coisa. E um estudo que testou o desempenho de gerações progressivas de modelos do chat chpt e da LLM cada vez mais complexos, o que viram foi que os modelos mais recentes e mais complexos\n",
      " flexos na verdade erraram mais. Não porque eles passaram a dar respostas erradas, onde antes modelos mais simples acertavam, mas sim porque eles começaram a responder mais própets e responder errado ao invés de se retratarem e darem uma resposta de que não tinham aquela informação como os modelos mais simples faziam. Se é para humanizar o que acontece,\n",
      " quanto mais complexo o modelo, mas ele acha que sabe mesmo quando está completamente errado no prompt que ele está gerando. Só que aí é mais difícil você identificar. Ou seja, idealmente você tem que entender muito bem do que você está fazendo para poder gerar uma resposta crítica e ainda ser capaz de reconhecer os problemas que estão nela. Uma ferramenta dessas\n",
      " que ajuda na sua produtividade em algo que você domina e pode checar a informação pode ser ótima, mas fora da sua área você talvez esteja recebendo uma feijoada de vegetais sem nem saber como era original. Modelos de linguagem estão na verdade gerando mais trabalho do que poupam para muita gente. Na mesma linha, dos caixas automáticos dos\n",
      " supermercado que fazem você trabalhar para comprar os produtos e ao mesmo tempo fazem com que os funcionários que sobraram tenham trabalho extra ajudando a atender não só os caixas deles mas as pessoas que empacaram no aparelho tentando digitar um código que não passa ou pesar uma fruta que não sabem como pesar. As dúvidas sobre os grandes ganhos que eles trariam\n",
      " já começaram no meio de 2024 entre fundos de investimento consultorias e publicações da área, como a Bloomberg ou a Goldman Sachs, questionando tantas promessas com poucas entregas. E as suspeitas começam a se confirmar em estudos práticos agora. Os usos mais comuns e empresas dessas\n",
      " tem sido o resumo de informação e geração de relatórios, além de busca de informação de documentos e processamento como a produção de tabelas. Em situações mais elaboradas, como ter chatbots que são construídos para atender clientes ou profissionais e que vão responder com base em dados internos ou dados da internet,\n",
      " o internet. Os problemas se multiplicam ainda mais. Porque em qualquer uso dessas ferramentas, uma mesma pergunta pode ser respondida de várias formas diferentes cada vez que a pergunta é feita. Ou seja, não tem consistência no que é gerado. E aí se não tem consistência, o que acontece quando um departamento apresenta uma resposta que valida os seus interesses\n",
      " outro departamento apresenta uma outra resposta que também foi gerada pelo mesmo modelo de linguagem, mas que dá conclusões que são contrárias e que são contraditórias entre elas. Quem vai validar isso ou conciliar os dois? E o sistema é fechado, não dá pra saber o que deu errado, por que uma resposta mudou ou por que uma resposta não atendeu nem o que era pedido.\n",
      " o problema de quem valida as respostas, já que elas não são nem previsíveis nem consistentes. Ao contrário de um funcionário, não dá para perguntar para o chat EPT como ele gerou cada resposta, como ele chegou numa conclusão que não é uma conclusão, ou pedir para ele pensar de uma forma diferente das próximas vezes. Nem dá para responsabilizar ele por decisões erradas. E quanto\n",
      " mais personalizado para uma empresa, o resultado tiver que ser para poder gerar respostas para perguntas como, onde o nosso processo poderia ser otimizado para esse mercado onde atuamos, quais regulamentações a gente precisa ou não atender para fazer o processo Y? Mais dados proprietários e sigilosos precisam ser levantados e preparados\n",
      " para treinar esses modelos. E aí o resultado é que entre organizar o material, fazer a consulta, checar o que é gerado, os modelos de linguagem estão dando mais trabalho do que poupam para as empresas. Pior, mesmo nas situações com ganho de produtividade, onde profissionais qualificados que têm a capacidade de checar o resultado gerado por um modelo de linguagem podem\n",
      " fazer isso, entre gerar uma resposta e editar o resultado conferindo ponto a ponto ou simplesmente encaminhar a resposta sem bater o olho no que saiu, o que você acha que uma pessoa sob a pressão de render mais usando a nova ferramenta que está custando caro vai fazer? Ela vai checar e trabalhar dobrado ou ela vai mandar direto que ela recebeu?\n",
      " o prazo, o custo dessa organização de informação pode não se pagar. As primeiras simulações da dinâmica entre a adoção de serviços de inteligência artificial e o potencial de empregos perdidos para esse tipo de automação dão conta de que essa transição é bem mais lenta e delicada do que parece. Pelo menos usando como exemplo\n",
      " o campo de visão computacional, que é a interpretação de imagens por computadores que poderiam, por exemplo, fazer diagnósticos com base em radiografias, que é onde os custos e a eficiência dos sistemas já são mais conhecidos para fazer análises. Para ferramentas de A compensarem financeiramente o suficiente para serem adotadas\n",
      " a ponto de substituir as pessoas, o mercado todo teria que adotar a mesma solução da mesma marca otimizada. Caso contrário, ainda é mais efetivo pagar pessoas. Segundo o estudo que testou esse campo, mesmo se o custo desse tipo de ferramenta continua caindo 20% ao ano, ainda seriam necessárias décadas.\n",
      " para realmente substituir empregos em firmas. Isso no campo de visão computacional. No caso dos modelos de linguagem, ainda nem sabemos os custos reais de poder rodar esses sistemas. Não sabemos nem de longas aliás, já que Gemini, Shet, ShpT, Clo, de outros são todos subsidiados pelas empresas que estão copetindo para oferecer serviços\n",
      " com o prejuízo de bilhões de dólares por ano enquanto captam os clientes que só depois de ficarem dependentes vão descobrir o custo real. Sim, a perspectiva é gerarem perdas de muitos bilhões pelos próximos anos, em grande parte pela demanda de energia que esses programas consomem, mesmo levando\n",
      " conta que os próximos chips e sistemas devem ser otimizados para serem mais eficientes. Tanto é o caso que pelo menos a Amazon, a Microsoft e o Google estão tentando comprar, reativar ou construir usinas nucleares para dar conta de gerar a energia que os seus modelos de linguagem consomem. Sim, isso que você ouviu.\n",
      " Ou seja, pelo menos no caso dos sistemas generativos atuais, se eles substituírem empregos, são empregos perdidos para ferramentas que não dão resultados consistentes ou confiáveis, que custam muito mais do que aparentam e que não devem ficar mais acuradas ou muito mais baratas em um futuro mais próximo.\n",
      " seria trocar a feijoada pela feijoada vegetariana que só agrada de verdade quem não conhece a original e está tão distante da realidade que não sente a diferença entre elas. O que de certa forma já se aplica a tradutores, artistas gráficos e outros profissionais que venham seu trabalho sendo feito pelos modelos de linguagem generativa e trabalhos sendo\n",
      " aceitos por quem não produz porque não precisa ser ótimo. Pode ser ruim, só tem que ser bom o suficiente. E principalmente no caso de artistas, isso vem repetindo o processo inglês de ter o trabalho artesanal copiado pelas máquinas que entram no seu lugar. Assim como nas fábricas automatizadas do século 19, quem decidia se a mão de obra era substituída por máquinas ou não,\n",
      " foram nem os operários, nem as máquinas, foram os donos das máquinas que dependem muito mais da aceitação do público dos produtos e serviços feitos por elas do que qualquer outra coisa. Se você gostou dessa conversa e que tem outras dessas por aqui, aproveita, assina, se inscreve no canal assim você recebe os próximos vídeos e o nosso podcast que é o Não Ficção que são conversas do dia\n",
      " de ciência do dia a dia com especialistas, incluindo conversas sobre mecanização do trabalho, substituição dele e trabalho em plataformas, como os dois episódios que eu vou deixar por aqui. Até o próximo.\n",
      "\n"
     ]
    }
   ],
   "source": [
    "# Exemplo de uso:\n",
    "video_path = \"/home/rafael/Downloads/tube-thief/temp/Por que o Chat GPT não vai tirar o seu emprego.mp4\"  # Substitua pelo caminho do seu vídeo\n",
    "transcricao = transcrever_video_em_partes(video_path, segment_duration=20) # Define a duração do segmento para 20s\n",
    "\n",
    "if transcricao:\n",
    "    print(\"\\nTranscrição completa:\")\n",
    "    print(transcricao)"
   ]
  }
 ],
 "metadata": {
  "kernelspec": {
   "display_name": "language",
   "language": "python",
   "name": "python3"
  },
  "language_info": {
   "codemirror_mode": {
    "name": "ipython",
    "version": 3
   },
   "file_extension": ".py",
   "mimetype": "text/x-python",
   "name": "python",
   "nbconvert_exporter": "python",
   "pygments_lexer": "ipython3",
   "version": "3.10.14"
  }
 },
 "nbformat": 4,
 "nbformat_minor": 2
}
